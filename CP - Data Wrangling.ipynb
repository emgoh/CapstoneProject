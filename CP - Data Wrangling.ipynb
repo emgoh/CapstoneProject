{
 "cells": [
  {
   "cell_type": "code",
   "execution_count": 245,
   "metadata": {
    "collapsed": true
   },
   "outputs": [],
   "source": [
    "import pandas as pd\n",
    "from datetime import datetime\n",
    "import numpy as np"
   ]
  },
  {
   "cell_type": "code",
   "execution_count": 246,
   "metadata": {
    "collapsed": false
   },
   "outputs": [
    {
     "name": "stdout",
     "output_type": "stream",
     "text": [
      "<class 'pandas.core.frame.DataFrame'>\nRangeIndex: 22025 entries, 0 to 22024\nData columns (total 82 columns):\nid                                  22025 non-null int64\nname                                22022 non-null object\nsummary                             21414 non-null object\nspace                               16203 non-null object\ndescription                         21764 non-null object\nneighborhood_overview               13847 non-null object\nnotes                               11138 non-null object\ntransit                             14406 non-null object\naccess                              14682 non-null object\ninteraction                         13934 non-null object\nhouse_rules                         14495 non-null object\nhost_id                             22025 non-null int64\nhost_name                           22022 non-null object\nhost_since                          22022 non-null object\nhost_location                       22003 non-null object\nhost_about                          13340 non-null object\nhost_response_time                  12107 non-null object\nhost_response_rate                  12107 non-null float64\nhost_acceptance_rate                0 non-null float64\nhost_is_superhost                   22022 non-null object\nhost_neighbourhood                  14267 non-null object\nhost_listings_count                 22022 non-null float64\nhost_total_listings_count           22022 non-null float64\nhost_verifications                  22025 non-null object\nhost_has_profile_pic                22022 non-null object\nhost_identity_verified              22022 non-null object\nstreet                              22025 non-null object\nneighbourhood                       16405 non-null object\nneighbourhood_cleansed              22025 non-null object\nneighbourhood_group_cleansed        0 non-null float64\ncity                                22004 non-null object\nstate                               21972 non-null object\nzipcode                             21873 non-null object\nmarket                              21992 non-null object\nsmart_location                      22025 non-null object\ncountry_code                        22025 non-null object\ncountry                             22025 non-null object\nlatitude                            22025 non-null float64\nlongitude                           22025 non-null float64\nis_location_exact                   22025 non-null object\nproperty_type                       22025 non-null object\nroom_type                           22025 non-null object\naccommodates                        22025 non-null int64\nbathrooms                           22004 non-null float64\nbedrooms                            22019 non-null float64\nbeds                                21991 non-null float64\nbed_type                            22025 non-null object\namenities                           22025 non-null object\nsquare_feet                         209 non-null float64\nprice                               22025 non-null int64\nweekly_price                        2575 non-null float64\nmonthly_price                       1931 non-null float64\nsecurity_deposit                    14728 non-null float64\ncleaning_fee                        16558 non-null float64\nguests_included                     22025 non-null int64\nextra_people                        22025 non-null int64\nminimum_nights                      22025 non-null int64\nmaximum_nights                      22025 non-null int64\ncalendar_updated                    22025 non-null object\nhas_availability                    22025 non-null object\navailability_30                     22025 non-null int64\navailability_60                     22025 non-null int64\navailability_90                     22025 non-null int64\navailability_365                    22025 non-null int64\ncalendar_last_scraped               22025 non-null object\nnumber_of_reviews                   22025 non-null int64\nfirst_review                        17192 non-null object\nlast_review                         17192 non-null object\nreview_scores_rating                16762 non-null float64\nreview_scores_accuracy              16748 non-null float64\nreview_scores_cleanliness           16756 non-null float64\nreview_scores_checkin               16732 non-null float64\nreview_scores_communication         16749 non-null float64\nreview_scores_location              16733 non-null float64\nreview_scores_value                 16731 non-null float64\ninstant_bookable                    22025 non-null object\nis_business_travel_ready            22025 non-null object\ncancellation_policy                 22025 non-null object\nrequire_guest_profile_picture       22025 non-null object\nrequire_guest_phone_verification    22025 non-null object\ncalculated_host_listings_count      22025 non-null int64\nreviews_per_month                   17192 non-null float64\ndtypes: float64(23), int64(14), object(45)\nmemory usage: 10.0+ MB\n"
     ]
    }
   ],
   "source": [
    "data=pd.read_csv('detailed listing amended.csv', encoding = \"ISO-8859-1\", low_memory=False)\n",
    "data.info()"
   ]
  },
  {
   "cell_type": "code",
   "execution_count": 273,
   "metadata": {},
   "outputs": [
    {
     "name": "stdout",
     "output_type": "stream",
     "text": [
      "id                                           int64\nname                                        object\nsummary                                     object\nspace                                       object\ndescription                                 object\nneighborhood_overview                       object\nnotes                                       object\ntransit                                     object\naccess                                      object\ninteraction                                 object\nhouse_rules                                 object\nhost_id                                      int64\nhost_name                                   object\nhost_since                                  object\nhost_about                                  object\nhost_response_time                          object\nhost_response_rate                         float64\nhost_is_superhost                           object\nhost_listings_count                        float64\nhost_total_listings_count                  float64\nhost_has_profile_pic                        object\nhost_identity_verified                      object\nstreet                                      object\nneighbourhood                               object\nneighbourhood_cleansed                      object\ncity                                        object\nstate                                       object\nzipcode                                     object\nmarket                                      object\nsmart_location                              object\n                                         ...      \nmonthly_price                              float64\nsecurity_deposit                           float64\ncleaning_fee                               float64\nguests_included                              int64\nextra_people                                 int64\nminimum_nights                               int64\nmaximum_nights                               int64\ncalendar_updated                            object\nhas_availability                            object\navailability_30                              int64\navailability_60                              int64\navailability_90                              int64\navailability_365                             int64\ncalendar_last_scraped               datetime64[ns]\nnumber_of_reviews                            int64\nfirst_review                        datetime64[ns]\nlast_review                         datetime64[ns]\nreview_scores_rating                       float64\nreview_scores_accuracy                     float64\nreview_scores_cleanliness                  float64\nreview_scores_checkin                      float64\nreview_scores_communication                float64\nreview_scores_location                     float64\nreview_scores_value                        float64\ninstant_bookable                            object\ncancellation_policy                         object\nrequire_guest_profile_picture               object\nrequire_guest_phone_verification            object\ncalculated_host_listings_count               int64\nreviews_per_month                          float64\nLength: 74, dtype: object\n"
     ]
    }
   ],
   "source": [
    "# only keeping the columns that we want\n",
    "data =data[['id',\n",
    "            'name',\n",
    "            'summary',\n",
    "            'space',\n",
    "            'description',\n",
    "            'neighborhood_overview',\n",
    "            'notes',\n",
    "            'transit',\n",
    "            'access',\n",
    "            'interaction',\n",
    "            'house_rules',\n",
    "            'host_id',\n",
    "            'host_name',\n",
    "            'host_since',\n",
    "            'host_about',\n",
    "            'host_response_time',\n",
    "            'host_response_rate',\n",
    "            'host_is_superhost',\n",
    "            'host_listings_count',\n",
    "            'host_total_listings_count',\n",
    "            'host_has_profile_pic',\n",
    "            'host_identity_verified',\n",
    "            'street',\n",
    "            'neighbourhood',\n",
    "            'neighbourhood_cleansed',\n",
    "            'city',\n",
    "            'state',\n",
    "            'zipcode',\n",
    "            'market',\n",
    "            'smart_location',\n",
    "            'latitude',\n",
    "            'longitude',\n",
    "            'is_location_exact',\n",
    "            'property_type',\n",
    "            'room_type',\n",
    "            'accommodates',\n",
    "            'bathrooms',\n",
    "            'bedrooms',\n",
    "            'beds',\n",
    "            'bed_type',\n",
    "            'amenities',\n",
    "            'square_feet',\n",
    "            'price',\n",
    "            'weekly_price',\n",
    "            'monthly_price',\n",
    "            'security_deposit',\n",
    "            'cleaning_fee',\n",
    "            'guests_included',\n",
    "            'extra_people',\n",
    "            'minimum_nights',\n",
    "            'maximum_nights',\n",
    "            'calendar_updated',\n",
    "            'has_availability',\n",
    "            'availability_30',\n",
    "            'availability_60',\n",
    "            'availability_90',\n",
    "            'availability_365',\n",
    "            'number_of_reviews',\n",
    "            'first_review',\n",
    "            'last_review',\n",
    "            'review_scores_rating',\n",
    "            'review_scores_accuracy',\n",
    "            'review_scores_cleanliness',\n",
    "            'review_scores_checkin',\n",
    "            'review_scores_communication',\n",
    "            'review_scores_location',\n",
    "            'review_scores_value',\n",
    "            'instant_bookable',\n",
    "            'cancellation_policy',\n",
    "            'require_guest_profile_picture',\n",
    "            'require_guest_phone_verification',\n",
    "            'calculated_host_listings_count',\n",
    "            'reviews_per_month']]"
   ]
  },
  {
   "cell_type": "code",
   "execution_count": 248,
   "metadata": {},
   "outputs": [
    {
     "name": "stdout",
     "output_type": "stream",
     "text": [
      "id                                           int64\nname                                        object\nsummary                                     object\nspace                                       object\ndescription                                 object\nneighborhood_overview                       object\nnotes                                       object\ntransit                                     object\naccess                                      object\ninteraction                                 object\nhouse_rules                                 object\nhost_id                                      int64\nhost_name                                   object\nhost_since                                  object\nhost_location                               object\nhost_about                                  object\nhost_response_time                          object\nhost_response_rate                         float64\nhost_acceptance_rate                       float64\nhost_is_superhost                           object\nhost_neighbourhood                          object\nhost_listings_count                        float64\nhost_total_listings_count                  float64\nhost_verifications                          object\nhost_has_profile_pic                        object\nhost_identity_verified                      object\nstreet                                      object\nneighbourhood                               object\nneighbourhood_cleansed                      object\nneighbourhood_group_cleansed               float64\n                                         ...      \nsecurity_deposit                           float64\ncleaning_fee                               float64\nguests_included                              int64\nextra_people                                 int64\nminimum_nights                               int64\nmaximum_nights                               int64\ncalendar_updated                            object\nhas_availability                            object\navailability_30                              int64\navailability_60                              int64\navailability_90                              int64\navailability_365                             int64\ncalendar_last_scraped               datetime64[ns]\nnumber_of_reviews                            int64\nfirst_review                        datetime64[ns]\nlast_review                         datetime64[ns]\nreview_scores_rating                       float64\nreview_scores_accuracy                     float64\nreview_scores_cleanliness                  float64\nreview_scores_checkin                      float64\nreview_scores_communication                float64\nreview_scores_location                     float64\nreview_scores_value                        float64\ninstant_bookable                            object\nis_business_travel_ready                    object\ncancellation_policy                         object\nrequire_guest_profile_picture               object\nrequire_guest_phone_verification            object\ncalculated_host_listings_count               int64\nreviews_per_month                          float64\nLength: 82, dtype: object\n"
     ]
    }
   ],
   "source": [
    "#converting first_review, last_review and calendar_last_scraped from string to date\n",
    "data['first_review']=pd.to_datetime(data['first_review'])\n",
    "data['last_review']=pd.to_datetime(data['last_review'])\n",
    "data['host_since']=pd.to_datetime(data['host_since'])\n",
    "print(data.dtypes)"
   ]
  },
  {
   "cell_type": "code",
   "execution_count": 255,
   "metadata": {},
   "outputs": [],
   "source": [
    "#cleaning up the city data\n",
    "data['city']=data['city'].astype(str).str.partition(',')\n",
    "data['city']=data['city'].astype(str).str.partition('.')\n",
    "data['city']=data['city'].astype(str).str.partition('-')\n",
    "data['city']=data['city'].astype(str).str.title()\n",
    "data['city']=data['city'].astype(str).str.partition('(')\n",
    "data['city']=data['city'].astype(str).str.partition('/')\n",
    "data['city']=data['city'].astype(str).str.rstrip() \n",
    "data['city']=data['city'].astype(str).str.lstrip()\n",
    "\n",
    "#removing any data that doesn't characters or numbers\n",
    "data=data[data['name'].astype(str).str.contains('[a-zA-Z0-9_-]+$')] \n",
    "\n",
    "#removing data in city column that doesn't have characters or numbers\n",
    "data=data[data['city'].astype(str).str.contains('[a-zA-Z0-9_-]+$')] \n",
    "\n",
    "#cleaning up city data to their correct categories\n",
    "data['city']=data['city'].replace('Brunswick / Melbourne', 'Brunswick')\n",
    "data['city']=data['city'].replace('Dockland', 'Docklands')\n",
    "data['city']=data['city'].replace('Doncaster Vic 3108', 'Doncaster')\n",
    "data['city']=data['city'].replace('Doncasterï¼Melbourne', 'Doncaster')\n",
    "data['city']=data['city'].replace('East St', 'St Kilda East')\n",
    "data['city']=data['city'].replace('Saint Kilda', 'St Kilda')\n",
    "data['city']=data['city'].replace('Saint Kilda East', 'St Kilda East')\n",
    "data['city']=data['city'].replace('Saint Kilda West', 'St Kilda West')\n",
    "data['city']=data['city'].replace('St Kilda West Melbourne', 'St Kilda West')\n",
    "data['city']=data['city'].replace('St', 'St Kilda')\n",
    "data['city']=data['city'].replace('Melborne', 'Melbourne')\n",
    "data['city']=data['city'].replace('Melbourne Cbd', 'Melbourne')\n",
    "data['city']=data['city'].replace('Melbourne City', 'Melbourne')\n",
    "data['city']=data['city'].replace('Melbourne Vic 3000', 'Melbourne')\n",
    "data['city']=data['city'].replace('Melbourne Vic 3004', 'Melbourne')\n",
    "data['city']=data['city'].replace('Melbourne Victoria', 'Melbourne')\n",
    "data['city']=data['city'].replace('Mlebourne', 'Melbourne')\n",
    "data['city']=data['city'].replace('Praharan', 'Melbourne')\n",
    "data['city']=data['city'].replace('Somerton Vic 3062', 'Somerton')\n",
    "data['city']=data['city'].replace('South Yarra Vic 3141', 'South Yarra')\n",
    "data['city']=data['city'].replace('Southbank Melbourne', 'Southbank')\n",
    "data['city']=data['city'].replace('Strthtulloch', 'Strathtulloh')\n",
    "data['city']=data['city'].replace('Wantirna South Vic 3152', 'Wantirna South')\n",
    "data['city']=data['city'].replace('Wheelers Hill Vic 3150', 'Wheelers Hill')\n",
    "data['city']=data['city'].replace('Vic', 'Victoria')\n",
    "\n",
    "#grouping the city data\n",
    "data['id'].groupby(data['city']).count().sort_values(ascending=False)"
   ]
  },
  {
   "cell_type": "code",
   "execution_count": 275,
   "metadata": {},
   "outputs": [
    {
     "name": "stdout",
     "output_type": "stream",
     "text": [
      "<class 'pandas.core.frame.DataFrame'>\nInt64Index: 18302 entries, 0 to 22024\nData columns (total 74 columns):\nid                                  18302 non-null int64\nname                                18299 non-null object\nsummary                             17815 non-null object\nspace                               13511 non-null object\ndescription                         18099 non-null object\nneighborhood_overview               11481 non-null object\nnotes                               9368 non-null object\ntransit                             12017 non-null object\naccess                              12297 non-null object\ninteraction                         11618 non-null object\nhouse_rules                         11994 non-null object\nhost_id                             18302 non-null int64\nhost_name                           18299 non-null object\nhost_since                          18299 non-null object\nhost_about                          11128 non-null object\nhost_response_time                  10105 non-null object\nhost_response_rate                  10105 non-null float64\nhost_is_superhost                   18299 non-null object\nhost_listings_count                 18299 non-null float64\nhost_total_listings_count           18299 non-null float64\nhost_has_profile_pic                18299 non-null object\nhost_identity_verified              18299 non-null object\nstreet                              18302 non-null object\nneighbourhood                       13772 non-null object\nneighbourhood_cleansed              18302 non-null object\ncity                                18302 non-null object\nstate                               18258 non-null object\nzipcode                             18174 non-null object\nmarket                              18275 non-null object\nsmart_location                      18302 non-null object\nlatitude                            18302 non-null float64\nlongitude                           18302 non-null float64\nis_location_exact                   18302 non-null object\nproperty_type                       18302 non-null object\nroom_type                           18302 non-null object\naccommodates                        18302 non-null int64\nbathrooms                           18286 non-null float64\nbedrooms                            18298 non-null float64\nbeds                                18271 non-null float64\nbed_type                            18302 non-null object\namenities                           18302 non-null object\nsquare_feet                         175 non-null float64\nprice                               18302 non-null int64\nweekly_price                        2125 non-null float64\nmonthly_price                       1585 non-null float64\nsecurity_deposit                    12251 non-null float64\ncleaning_fee                        13760 non-null float64\nguests_included                     18302 non-null int64\nextra_people                        18302 non-null int64\nminimum_nights                      18302 non-null int64\nmaximum_nights                      18302 non-null int64\ncalendar_updated                    18302 non-null object\nhas_availability                    18302 non-null object\navailability_30                     18302 non-null int64\navailability_60                     18302 non-null int64\navailability_90                     18302 non-null int64\navailability_365                    18302 non-null int64\ncalendar_last_scraped               18302 non-null datetime64[ns]\nnumber_of_reviews                   18302 non-null int64\nfirst_review                        14295 non-null datetime64[ns]\nlast_review                         14295 non-null datetime64[ns]\nreview_scores_rating                13951 non-null float64\nreview_scores_accuracy              13940 non-null float64\nreview_scores_cleanliness           13947 non-null float64\nreview_scores_checkin               13925 non-null float64\nreview_scores_communication         13939 non-null float64\nreview_scores_location              13925 non-null float64\nreview_scores_value                 13923 non-null float64\ninstant_bookable                    18302 non-null object\ncancellation_policy                 18302 non-null object\nrequire_guest_profile_picture       18302 non-null object\nrequire_guest_phone_verification    18302 non-null object\ncalculated_host_listings_count      18302 non-null int64\nreviews_per_month                   14295 non-null float64\ndtypes: datetime64[ns](3), float64(21), int64(14), object(36)\nmemory usage: 8.5+ MB\n"
     ]
    }
   ],
   "source": [
    "#fill all na data as NaN\n",
    "data.fillna('NaN')\n",
    "data.info()"
   ]
  },
  {
   "cell_type": "code",
   "execution_count": 277,
   "metadata": {},
   "outputs": [],
   "source": [
    "#writing data to csv\n",
    "data.to_csv('new detailed listing.csv')"
   ]
  },
  {
   "cell_type": "code",
   "execution_count": null,
   "metadata": {},
   "outputs": [],
   "source": []
  }
 ],
 "metadata": {
  "kernelspec": {
   "display_name": "Python 2",
   "language": "python",
   "name": "python2"
  },
  "language_info": {
   "codemirror_mode": {
    "name": "ipython",
    "version": 2
   },
   "file_extension": ".py",
   "mimetype": "text/x-python",
   "name": "python",
   "nbconvert_exporter": "python",
   "pygments_lexer": "ipython2",
   "version": "2.7.6"
  }
 },
 "nbformat": 4,
 "nbformat_minor": 0
}
